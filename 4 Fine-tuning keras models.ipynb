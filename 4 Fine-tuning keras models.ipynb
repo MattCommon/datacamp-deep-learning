{
 "cells": [
  {
   "cell_type": "code",
   "execution_count": 1,
   "metadata": {},
   "outputs": [],
   "source": [
    "import numpy as np\n",
    "import pandas as pd\n",
    "import matplotlib.pyplot as plt"
   ]
  },
  {
   "cell_type": "code",
   "execution_count": 2,
   "metadata": {},
   "outputs": [
    {
     "name": "stderr",
     "output_type": "stream",
     "text": [
      "Using TensorFlow backend.\n"
     ]
    }
   ],
   "source": [
    "import keras\n",
    "from keras.layers import Dense\n",
    "from keras.models import Sequential\n",
    "from keras.utils import to_categorical"
   ]
  },
  {
   "cell_type": "code",
   "execution_count": 3,
   "metadata": {},
   "outputs": [],
   "source": [
    "df = pd.read_csv(\"titanic_all_numeric.csv\")\n",
    "predictors = df.drop([\"survived\"], axis=1).values\n",
    "n_cols = predictors.shape[1]\n",
    "input_shape = (n_cols,)\n",
    "target = to_categorical(df.survived)"
   ]
  },
  {
   "cell_type": "code",
   "execution_count": 4,
   "metadata": {},
   "outputs": [],
   "source": [
    "def get_new_model(input_shape = input_shape):\n",
    "    model = Sequential()\n",
    "    model.add(Dense(100, activation='relu', input_shape = input_shape))\n",
    "    model.add(Dense(100, activation='relu'))\n",
    "    model.add(Dense(2, activation='softmax'))\n",
    "    return(model)"
   ]
  },
  {
   "cell_type": "code",
   "execution_count": 5,
   "metadata": {},
   "outputs": [
    {
     "name": "stdout",
     "output_type": "stream",
     "text": [
      "\n",
      "\n",
      "Testing model with learning rate: 0.000001\n",
      "\n",
      "Epoch 1/10\n",
      "891/891 [==============================] - 0s 177us/step - loss: 1.0605\n",
      "Epoch 2/10\n",
      "891/891 [==============================] - 0s 36us/step - loss: 1.0516\n",
      "Epoch 3/10\n",
      "891/891 [==============================] - 0s 37us/step - loss: 1.0431\n",
      "Epoch 4/10\n",
      "891/891 [==============================] - 0s 37us/step - loss: 1.0345\n",
      "Epoch 5/10\n",
      "891/891 [==============================] - 0s 36us/step - loss: 1.0262\n",
      "Epoch 6/10\n",
      "891/891 [==============================] - 0s 37us/step - loss: 1.0180\n",
      "Epoch 7/10\n",
      "891/891 [==============================] - 0s 37us/step - loss: 1.0098\n",
      "Epoch 8/10\n",
      "891/891 [==============================] - 0s 35us/step - loss: 1.0019\n",
      "Epoch 9/10\n",
      "891/891 [==============================] - 0s 39us/step - loss: 0.9940\n",
      "Epoch 10/10\n",
      "891/891 [==============================] - 0s 38us/step - loss: 0.9863\n",
      "\n",
      "\n",
      "Testing model with learning rate: 0.010000\n",
      "\n",
      "Epoch 1/10\n",
      "891/891 [==============================] - 0s 186us/step - loss: 1.8375\n",
      "Epoch 2/10\n",
      "891/891 [==============================] - 0s 40us/step - loss: 0.8668\n",
      "Epoch 3/10\n",
      "891/891 [==============================] - 0s 38us/step - loss: 0.6618\n",
      "Epoch 4/10\n",
      "891/891 [==============================] - 0s 38us/step - loss: 0.6150\n",
      "Epoch 5/10\n",
      "891/891 [==============================] - 0s 36us/step - loss: 0.6123\n",
      "Epoch 6/10\n",
      "891/891 [==============================] - 0s 38us/step - loss: 0.6164\n",
      "Epoch 7/10\n",
      "891/891 [==============================] - 0s 37us/step - loss: 0.6029\n",
      "Epoch 8/10\n",
      "891/891 [==============================] - 0s 36us/step - loss: 0.6081\n",
      "Epoch 9/10\n",
      "891/891 [==============================] - 0s 37us/step - loss: 0.5960\n",
      "Epoch 10/10\n",
      "891/891 [==============================] - 0s 35us/step - loss: 0.6011\n",
      "\n",
      "\n",
      "Testing model with learning rate: 1.000000\n",
      "\n",
      "Epoch 1/10\n",
      "891/891 [==============================] - 0s 192us/step - loss: 9.7255\n",
      "Epoch 2/10\n",
      "891/891 [==============================] - 0s 43us/step - loss: 9.9314\n",
      "Epoch 3/10\n",
      "891/891 [==============================] - 0s 37us/step - loss: 9.9314\n",
      "Epoch 4/10\n",
      "891/891 [==============================] - 0s 36us/step - loss: 9.9314\n",
      "Epoch 5/10\n",
      "891/891 [==============================] - 0s 39us/step - loss: 9.9314\n",
      "Epoch 6/10\n",
      "891/891 [==============================] - 0s 36us/step - loss: 9.9314\n",
      "Epoch 7/10\n",
      "891/891 [==============================] - 0s 40us/step - loss: 9.9314\n",
      "Epoch 8/10\n",
      "891/891 [==============================] - 0s 36us/step - loss: 9.9314\n",
      "Epoch 9/10\n",
      "891/891 [==============================] - 0s 37us/step - loss: 9.9314\n",
      "Epoch 10/10\n",
      "891/891 [==============================] - 0s 39us/step - loss: 9.9314\n"
     ]
    }
   ],
   "source": [
    "# Import the SGD optimizer\n",
    "from keras.optimizers import SGD\n",
    "\n",
    "# Create list of learning rates: lr_to_test\n",
    "lr_to_test = [0.000001, 0.01, 1]\n",
    "\n",
    "# Loop over learning rates\n",
    "for lr in lr_to_test:\n",
    "    print('\\n\\nTesting model with learning rate: %f\\n'%lr )\n",
    "    \n",
    "    # Build new model to test, unaffected by previous models\n",
    "    model = get_new_model()\n",
    "    \n",
    "    # Create SGD optimizer with specified learning rate: my_optimizer\n",
    "    my_optimizer = SGD(lr=lr)\n",
    "    \n",
    "    # Compile the model\n",
    "    model.compile(optimizer = my_optimizer, loss='categorical_crossentropy')\n",
    "    \n",
    "    # Fit the model\n",
    "    model.fit(predictors, target, epochs=10, batch_size=32)"
   ]
  },
  {
   "cell_type": "markdown",
   "metadata": {},
   "source": [
    "## Validation"
   ]
  },
  {
   "cell_type": "code",
   "execution_count": 6,
   "metadata": {},
   "outputs": [
    {
     "name": "stdout",
     "output_type": "stream",
     "text": [
      "Train on 623 samples, validate on 268 samples\n",
      "Epoch 1/30\n",
      "623/623 [==============================] - 0s 459us/step - loss: 1.0109 - acc: 0.5875 - val_loss: 0.8008 - val_acc: 0.6493\n",
      "Epoch 2/30\n",
      "623/623 [==============================] - 0s 50us/step - loss: 0.6745 - acc: 0.6581 - val_loss: 0.5515 - val_acc: 0.7425\n",
      "Epoch 3/30\n",
      "623/623 [==============================] - 0s 53us/step - loss: 0.6276 - acc: 0.6758 - val_loss: 0.5388 - val_acc: 0.7201\n",
      "Epoch 4/30\n",
      "623/623 [==============================] - 0s 59us/step - loss: 0.6400 - acc: 0.6902 - val_loss: 0.5456 - val_acc: 0.6866\n",
      "Epoch 5/30\n",
      "623/623 [==============================] - 0s 59us/step - loss: 0.6386 - acc: 0.6613 - val_loss: 0.4963 - val_acc: 0.7575\n",
      "Epoch 6/30\n",
      "623/623 [==============================] - 0s 53us/step - loss: 0.6028 - acc: 0.6934 - val_loss: 0.6669 - val_acc: 0.6567\n",
      "Epoch 7/30\n",
      "623/623 [==============================] - 0s 56us/step - loss: 0.6286 - acc: 0.6790 - val_loss: 0.5063 - val_acc: 0.7537\n"
     ]
    },
    {
     "data": {
      "text/plain": [
       "<keras.callbacks.History at 0x225e9504358>"
      ]
     },
     "execution_count": 6,
     "metadata": {},
     "output_type": "execute_result"
    }
   ],
   "source": [
    "# Import EarlyStopping\n",
    "from keras.callbacks import EarlyStopping\n",
    "\n",
    "# Specify the model\n",
    "model = Sequential()\n",
    "model.add(Dense(100, activation='relu', input_shape = input_shape))\n",
    "model.add(Dense(100, activation='relu'))\n",
    "model.add(Dense(2, activation='softmax'))\n",
    "\n",
    "# Compile the model\n",
    "model.compile(optimizer = 'adam', loss='categorical_crossentropy', metrics=['accuracy'])\n",
    "\n",
    "# Define early_stopping_monitor\n",
    "early_stopping_monitor = EarlyStopping(patience=2)\n",
    "\n",
    "# Fit the model\n",
    "model.fit(predictors, target, validation_split=0.3, epochs=30, callbacks = [early_stopping_monitor])"
   ]
  },
  {
   "cell_type": "code",
   "execution_count": 7,
   "metadata": {},
   "outputs": [
    {
     "name": "stdout",
     "output_type": "stream",
     "text": [
      "_________________________________________________________________\n",
      "Layer (type)                 Output Shape              Param #   \n",
      "=================================================================\n",
      "dense_13 (Dense)             (None, 10)                110       \n",
      "_________________________________________________________________\n",
      "dense_14 (Dense)             (None, 10)                110       \n",
      "_________________________________________________________________\n",
      "dense_15 (Dense)             (None, 2)                 22        \n",
      "=================================================================\n",
      "Total params: 242\n",
      "Trainable params: 242\n",
      "Non-trainable params: 0\n",
      "_________________________________________________________________\n"
     ]
    }
   ],
   "source": [
    "# Specify the model\n",
    "model_1 = Sequential()\n",
    "model_1.add(Dense(10, activation='relu', input_shape = input_shape))\n",
    "model_1.add(Dense(10, activation='relu'))\n",
    "model_1.add(Dense(2, activation='softmax'))\n",
    "\n",
    "# Compile the model\n",
    "model_1.compile(optimizer = 'adam', loss='categorical_crossentropy', metrics=['accuracy'])\n",
    "model_1.summary()"
   ]
  },
  {
   "cell_type": "code",
   "execution_count": 8,
   "metadata": {},
   "outputs": [
    {
     "data": {
      "image/png": "[encoded data removed]",
      "text/plain": [
       "<Figure size 432x288 with 1 Axes>"
      ]
     },
     "metadata": {
      "needs_background": "light"
     },
     "output_type": "display_data"
    }
   ],
   "source": [
    "# Create the new model: model_2\n",
    "model_2 = Sequential()\n",
    "\n",
    "# Add the first and second layers\n",
    "model_2.add(Dense(100, activation='relu', input_shape = input_shape))\n",
    "model_2.add(Dense(100, activation='relu'))\n",
    "\n",
    "# Add the output layer\n",
    "model_2.add(Dense(2, activation='softmax'))\n",
    "\n",
    "# Compile model_2\n",
    "model_2.compile(optimizer = 'adam', loss='categorical_crossentropy', metrics=['accuracy'])\n",
    "\n",
    "# Fit model_1\n",
    "model_1_training = model_1.fit(predictors, target, epochs=15, batch_size=32, validation_split=0.2, callbacks=[early_stopping_monitor], verbose=False)\n",
    "\n",
    "# Fit model_2\n",
    "model_2_training = model_2.fit(predictors, target, epochs=15, batch_size=32, validation_split=0.2, callbacks=[early_stopping_monitor], verbose=False)\n",
    "\n",
    "# Create the plot\n",
    "plt.plot(model_1_training.history['val_loss'], 'r', model_2_training.history['val_loss'], 'b')\n",
    "plt.xlabel('Epochs')\n",
    "plt.ylabel('Validation score')\n",
    "plt.show()\n"
   ]
  },
  {
   "cell_type": "code",
   "execution_count": 9,
   "metadata": {},
   "outputs": [
    {
     "name": "stdout",
     "output_type": "stream",
     "text": [
      "_________________________________________________________________\n",
      "Layer (type)                 Output Shape              Param #   \n",
      "=================================================================\n",
      "dense_19 (Dense)             (None, 50)                550       \n",
      "_________________________________________________________________\n",
      "dense_20 (Dense)             (None, 2)                 102       \n",
      "=================================================================\n",
      "Total params: 652\n",
      "Trainable params: 652\n",
      "Non-trainable params: 0\n",
      "_________________________________________________________________\n"
     ]
    }
   ],
   "source": [
    "# Specify the model\n",
    "model_1 = Sequential()\n",
    "model_1.add(Dense(50, activation='relu', input_shape = input_shape))\n",
    "model_1.add(Dense(2, activation='softmax'))\n",
    "\n",
    "# Compile the model\n",
    "model_1.compile(optimizer = 'adam', loss='categorical_crossentropy', metrics=['accuracy'])\n",
    "model_1.summary()"
   ]
  },
  {
   "cell_type": "code",
   "execution_count": 10,
   "metadata": {},
   "outputs": [
    {
     "data": {
      "image/png": "[encoded data removed]",
      "text/plain": [
       "<Figure size 432x288 with 1 Axes>"
      ]
     },
     "metadata": {
      "needs_background": "light"
     },
     "output_type": "display_data"
    }
   ],
   "source": [
    "# Create the new model: model_2\n",
    "model_2 = Sequential()\n",
    "\n",
    "# Add the first, second, and third hidden layers\n",
    "model_2.add(Dense(50, activation='relu', input_shape = input_shape))\n",
    "model_2.add(Dense(50, activation='relu'))\n",
    "model_2.add(Dense(50, activation='relu'))\n",
    "\n",
    "# Add the output layer\n",
    "model_2.add(Dense(2, activation='softmax'))\n",
    "\n",
    "# Compile model_2\n",
    "model_2.compile(optimizer = 'adam', loss='categorical_crossentropy', metrics=['accuracy'])\n",
    "\n",
    "# Fit model 1\n",
    "model_1_training = model_1.fit(predictors, target, epochs=20, batch_size=32, validation_split=0.4, callbacks=[early_stopping_monitor], verbose=False)\n",
    "\n",
    "# Fit model 2\n",
    "model_2_training = model_2.fit(predictors, target, epochs=20, batch_size=32, validation_split=0.4, callbacks=[early_stopping_monitor], verbose=False)\n",
    "\n",
    "# Create the plot\n",
    "plt.plot(model_1_training.history['val_loss'], 'r', model_2_training.history['val_loss'], 'b')\n",
    "plt.xlabel('Epochs')\n",
    "plt.ylabel('Validation score')\n",
    "plt.show()"
   ]
  },
  {
   "cell_type": "code",
   "execution_count": 11,
   "metadata": {},
   "outputs": [
    {
     "name": "stdout",
     "output_type": "stream",
     "text": [
      "<class 'numpy.ndarray'>\n"
     ]
    },
    {
     "data": {
      "image/png": "[encoded data removed]",
      "text/plain": [
       "<Figure size 432x288 with 1 Axes>"
      ]
     },
     "metadata": {
      "needs_background": "light"
     },
     "output_type": "display_data"
    }
   ],
   "source": [
    "# Assign filename to variable: file\n",
    "file = 'mnist.csv'\n",
    "\n",
    "# Load file as array: digits\n",
    "digits = np.loadtxt(file, delimiter=',')\n",
    "\n",
    "# Print datatype of digits\n",
    "print(type(digits))\n",
    "\n",
    "# Select and reshape a row\n",
    "im = digits[1, 1:]\n",
    "im_sq = np.reshape(im, (28, 28))\n",
    "\n",
    "# Plot reshaped data (matplotlib.pyplot already loaded as plt)\n",
    "plt.imshow(im_sq, cmap='Greys', interpolation='nearest')\n",
    "plt.show()"
   ]
  },
  {
   "cell_type": "code",
   "execution_count": 12,
   "metadata": {},
   "outputs": [
    {
     "data": {
      "text/plain": [
       "(2001, 785)"
      ]
     },
     "execution_count": 12,
     "metadata": {},
     "output_type": "execute_result"
    }
   ],
   "source": [
    "digits.shape"
   ]
  },
  {
   "cell_type": "code",
   "execution_count": 13,
   "metadata": {},
   "outputs": [
    {
     "data": {
      "text/plain": [
       "(2001, 784)"
      ]
     },
     "execution_count": 13,
     "metadata": {},
     "output_type": "execute_result"
    }
   ],
   "source": [
    "X = digits[:, 1:]\n",
    "X.shape"
   ]
  },
  {
   "cell_type": "code",
   "execution_count": 14,
   "metadata": {},
   "outputs": [
    {
     "data": {
      "text/plain": [
       "(2001, 10)"
      ]
     },
     "execution_count": 14,
     "metadata": {},
     "output_type": "execute_result"
    }
   ],
   "source": [
    "y = to_categorical(digits[:, 0])\n",
    "y.shape"
   ]
  },
  {
   "cell_type": "code",
   "execution_count": 32,
   "metadata": {},
   "outputs": [
    {
     "name": "stdout",
     "output_type": "stream",
     "text": [
      "Train on 1700 samples, validate on 301 samples\n",
      "Epoch 1/30\n",
      "1700/1700 [==============================] - 1s 571us/step - loss: 12.2283 - acc: 0.2182 - val_loss: 11.5206 - val_acc: 0.2658\n",
      "Epoch 2/30\n",
      "1700/1700 [==============================] - 0s 55us/step - loss: 10.2741 - acc: 0.3529 - val_loss: 10.9234 - val_acc: 0.3123\n",
      "Epoch 3/30\n",
      "1700/1700 [==============================] - 0s 55us/step - loss: 9.8791 - acc: 0.3818 - val_loss: 10.6029 - val_acc: 0.3289\n",
      "Epoch 4/30\n",
      "1700/1700 [==============================] - 0s 50us/step - loss: 8.6037 - acc: 0.4488 - val_loss: 8.6033 - val_acc: 0.4319\n",
      "Epoch 5/30\n",
      "1700/1700 [==============================] - 0s 52us/step - loss: 6.8058 - acc: 0.5594 - val_loss: 8.0671 - val_acc: 0.4751\n",
      "Epoch 6/30\n",
      "1700/1700 [==============================] - 0s 51us/step - loss: 6.2806 - acc: 0.5953 - val_loss: 7.2847 - val_acc: 0.5249\n",
      "Epoch 7/30\n",
      "1700/1700 [==============================] - 0s 50us/step - loss: 5.3668 - acc: 0.6471 - val_loss: 6.7824 - val_acc: 0.5648\n",
      "Epoch 8/30\n",
      "1700/1700 [==============================] - 0s 48us/step - loss: 4.9994 - acc: 0.6706 - val_loss: 5.7764 - val_acc: 0.6179\n",
      "Epoch 9/30\n",
      "1700/1700 [==============================] - 0s 53us/step - loss: 4.4221 - acc: 0.7112 - val_loss: 5.8857 - val_acc: 0.6146\n",
      "Epoch 10/30\n",
      "1700/1700 [==============================] - 0s 52us/step - loss: 4.2593 - acc: 0.7282 - val_loss: 5.5103 - val_acc: 0.6478\n",
      "Epoch 11/30\n",
      "1700/1700 [==============================] - 0s 53us/step - loss: 4.2160 - acc: 0.7253 - val_loss: 5.5561 - val_acc: 0.6445\n",
      "Epoch 12/30\n",
      "1700/1700 [==============================] - 0s 53us/step - loss: 4.0560 - acc: 0.7365 - val_loss: 5.1981 - val_acc: 0.6578\n",
      "Epoch 13/30\n",
      "1700/1700 [==============================] - 0s 52us/step - loss: 3.4261 - acc: 0.7759 - val_loss: 4.2522 - val_acc: 0.7209\n",
      "Epoch 14/30\n",
      "1700/1700 [==============================] - 0s 53us/step - loss: 2.9855 - acc: 0.8071 - val_loss: 4.4265 - val_acc: 0.7076\n",
      "Epoch 15/30\n",
      "1700/1700 [==============================] - 0s 52us/step - loss: 3.0934 - acc: 0.7994 - val_loss: 4.7349 - val_acc: 0.6944\n",
      "Epoch 16/30\n",
      "1700/1700 [==============================] - 0s 55us/step - loss: 2.9308 - acc: 0.8094 - val_loss: 4.2735 - val_acc: 0.7209\n",
      "Epoch 17/30\n",
      "1700/1700 [==============================] - 0s 56us/step - loss: 2.7346 - acc: 0.8229 - val_loss: 4.3642 - val_acc: 0.7176\n",
      "Epoch 18/30\n",
      "1700/1700 [==============================] - 0s 52us/step - loss: 2.7412 - acc: 0.8241 - val_loss: 4.1657 - val_acc: 0.7342\n",
      "Epoch 19/30\n",
      "1700/1700 [==============================] - 0s 52us/step - loss: 2.6369 - acc: 0.8306 - val_loss: 4.1411 - val_acc: 0.7276\n",
      "Epoch 20/30\n",
      "1700/1700 [==============================] - 0s 53us/step - loss: 2.5221 - acc: 0.8376 - val_loss: 3.9835 - val_acc: 0.7409\n",
      "Epoch 21/30\n",
      "1700/1700 [==============================] - 0s 59us/step - loss: 2.4888 - acc: 0.8376 - val_loss: 4.3162 - val_acc: 0.7243\n",
      "Epoch 22/30\n",
      "1700/1700 [==============================] - 0s 59us/step - loss: 2.5315 - acc: 0.8353 - val_loss: 4.0543 - val_acc: 0.7375\n",
      "Epoch 23/30\n",
      "1700/1700 [==============================] - 0s 65us/step - loss: 2.4915 - acc: 0.8394 - val_loss: 4.0686 - val_acc: 0.7375\n",
      "Epoch 24/30\n",
      "1700/1700 [==============================] - 0s 68us/step - loss: 2.3435 - acc: 0.8494 - val_loss: 3.8645 - val_acc: 0.7475\n",
      "Epoch 25/30\n",
      "1700/1700 [==============================] - 0s 66us/step - loss: 2.3779 - acc: 0.8488 - val_loss: 4.1968 - val_acc: 0.7143\n",
      "Epoch 26/30\n",
      "1700/1700 [==============================] - 0s 61us/step - loss: 2.3005 - acc: 0.8535 - val_loss: 4.3680 - val_acc: 0.7143\n",
      "Epoch 27/30\n",
      "1700/1700 [==============================] - 0s 65us/step - loss: 2.2928 - acc: 0.8547 - val_loss: 4.0677 - val_acc: 0.7375\n",
      "Epoch 28/30\n",
      "1700/1700 [==============================] - 0s 62us/step - loss: 2.3064 - acc: 0.8553 - val_loss: 4.0248 - val_acc: 0.7442\n",
      "Epoch 29/30\n",
      "1700/1700 [==============================] - 0s 63us/step - loss: 2.2486 - acc: 0.8571 - val_loss: 3.9587 - val_acc: 0.7409\n",
      "Epoch 30/30\n",
      "1700/1700 [==============================] - 0s 65us/step - loss: 2.2956 - acc: 0.8547 - val_loss: 3.5691 - val_acc: 0.7608\n"
     ]
    },
    {
     "data": {
      "text/plain": [
       "<keras.callbacks.History at 0x225fc755e48>"
      ]
     },
     "execution_count": 32,
     "metadata": {},
     "output_type": "execute_result"
    }
   ],
   "source": [
    "# Create the model: model\n",
    "model = Sequential()\n",
    "\n",
    "# Add the first hidden layer\n",
    "model.add(Dense(50, activation='relu', input_shape = (784,)))\n",
    "\n",
    "# Add the second hidden layer\n",
    "model.add(Dense(50, activation='relu'))\n",
    "\n",
    "# Add the output layer\n",
    "model.add(Dense(10, activation='softmax'))\n",
    "\n",
    "# Compile the model\n",
    "model.compile(optimizer = 'adam', loss='categorical_crossentropy', metrics=['accuracy'])\n",
    "\n",
    "# Fit the model\n",
    "model.fit(X, y, epochs=30, batch_size=64, validation_split=0.15)\n"
   ]
  },
  {
   "cell_type": "code",
   "execution_count": null,
   "metadata": {},
   "outputs": [],
   "source": []
  }
 ],
 "metadata": {
  "kernelspec": {
   "display_name": "Python 3",
   "language": "python",
   "name": "python3"
  },
  "language_info": {
   "codemirror_mode": {
    "name": "ipython",
    "version": 3
   },
   "file_extension": ".py",
   "mimetype": "text/x-python",
   "name": "python",
   "nbconvert_exporter": "python",
   "pygments_lexer": "ipython3",
   "version": "3.6.7"
  }
 },
 "nbformat": 4,
 "nbformat_minor": 2
}
